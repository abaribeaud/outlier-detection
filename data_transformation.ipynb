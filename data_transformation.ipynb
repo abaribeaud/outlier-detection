{
 "cells": [
  {
   "cell_type": "code",
   "execution_count": 1,
   "id": "ef962640",
   "metadata": {},
   "outputs": [],
   "source": [
    "import os\n",
    "import re\n",
    "import pandas as pd\n",
    "import scipy as sp\n",
    "\n",
    "from spellchecker import SpellChecker\n",
    "# from skmultilearn.problem_transform import ClassifierChain\n",
    "from sklearn.svm import SVC\n",
    "from sklearn.feature_extraction.text import CountVectorizer\n",
    "from sklearn.linear_model import LogisticRegression\n",
    "from sklearn.model_selection import train_test_split\n",
    "from sklearn.metrics import classification_report\n",
    "from sklearn.svm import SVC\n",
    "from sklearn.preprocessing import OrdinalEncoder\n",
    "from sklearn.metrics import confusion_matrix\n",
    "from sklearn.ensemble import IsolationForest\n",
    "from sklearn.svm import OneClassSVM\n",
    "from sklearn.neighbors import LocalOutlierFactor\n",
    "from tqdm.auto import tqdm\n",
    "\n",
    "tqdm.pandas()"
   ]
  },
  {
   "cell_type": "code",
   "execution_count": 2,
   "id": "88995a68",
   "metadata": {},
   "outputs": [],
   "source": [
    "def rm_digit_and_spe_char(text, stopwords):\n",
    "    \"\"\"\n",
    "        Prepare and clean text :\n",
    "            - Remove digit\n",
    "            - Remove special character\n",
    "            - Remove stopword\n",
    "            - Correct typo with pyspellchecher\n",
    "\n",
    "    :param text: text to clean\n",
    "    :param stopwords: list of stopword used to remove stopword in text\n",
    "\n",
    "    :return: cleaned text\n",
    "    :rtype: str\n",
    "    \"\"\"\n",
    "\n",
    "    spell = SpellChecker(language=\"fr\", distance=1)  # fix distance to 1 for shorter run times\n",
    "\n",
    "    text_output = \" \"\n",
    "    for word in text.split():\n",
    "        word = re.sub(r'\\d+', \"\", word)  # remove digital char\n",
    "        word = re.sub(r'[\\@!-+°—\"-_*()=,;:./?…|<>«»]', \" \", word)  # remove special character\n",
    "        word = word.lower()  # normalize to lower case\n",
    "\n",
    "        # Check if the word is myspell\n",
    "        if spell.unknown([word]):\n",
    "            corrected = spell.correction(word)\n",
    "            if corrected == word:\n",
    "                word = \"\"\n",
    "            else:\n",
    "                word = corrected\n",
    "        elif len(word) > 36:\n",
    "            word = \"\"\n",
    "        else:\n",
    "            word = word\n",
    "    \n",
    "        if word not in stopwords:\n",
    "            text_output += \" \" + word\n",
    "\n",
    "    return text_output"
   ]
  },
  {
   "cell_type": "code",
   "execution_count": 3,
   "id": "18077941",
   "metadata": {},
   "outputs": [],
   "source": [
    "stopwords = open(\"stopwords.txt\", 'r').read().split()\n",
    "\n",
    "data_set = pd.DataFrame()\n",
    "data_outlier = pd.DataFrame()\n",
    "\n",
    "for file in os.listdir(\"data_arthur\"):\n",
    "    df = pd.read_json(\"data_arthur/\" + file, orient=\"record\")\n",
    "    data_set = pd.concat([data_set, df], ignore_index=True)\n",
    "\n",
    "for file in os.listdir(\"data_test_arthur\"):\n",
    "    df = pd.read_json(\"data_test_arthur/\" + file, orient=\"record\")\n",
    "    data_outlier = pd.concat([data_outlier, df], ignore_index=True)"
   ]
  },
  {
   "cell_type": "code",
   "execution_count": null,
   "id": "ceb4c3db",
   "metadata": {},
   "outputs": [
    {
     "data": {
      "application/vnd.jupyter.widget-view+json": {
       "model_id": "463b4f68f1dd405e954440985fc90928",
       "version_major": 2,
       "version_minor": 0
      },
      "text/plain": [
       "  0%|          | 0/13257 [00:00<?, ?it/s]"
      ]
     },
     "metadata": {},
     "output_type": "display_data"
    }
   ],
   "source": [
    "data_set[\"content\"] = data_set.progress_apply(lambda x: rm_digit_and_spe_char(x[\"content\"], stopwords), axis=1)"
   ]
  },
  {
   "cell_type": "code",
   "execution_count": 26,
   "id": "fc0e1565",
   "metadata": {},
   "outputs": [
    {
     "data": {
      "application/vnd.jupyter.widget-view+json": {
       "model_id": "1bdc013e97b844ebaad4ae0f7bea1450",
       "version_major": 2,
       "version_minor": 0
      },
      "text/plain": [
       "  0%|          | 0/1880 [00:00<?, ?it/s]"
      ]
     },
     "metadata": {},
     "output_type": "display_data"
    }
   ],
   "source": [
    "data_outlier[\"content\"] = data_outlier.progress_apply(lambda x: rm_digit_and_spe_char(x[\"content\"], stopwords), axis=1)"
   ]
  },
  {
   "cell_type": "code",
   "execution_count": 44,
   "id": "6a17a54b",
   "metadata": {},
   "outputs": [
    {
     "data": {
      "text/plain": [
       "array(['avis_situation_declarative', 'avis_taxe_fonciere',\n",
       "       'bulletin_de_paie', 'compromis_de_vente', 'contrat_bail_locatif',\n",
       "       'justificatif_domicile', 'justificatif_domicile_taxe_habitation',\n",
       "       'epargne', 'impot', 'releve_de_compte'], dtype=object)"
      ]
     },
     "execution_count": 44,
     "metadata": {},
     "output_type": "execute_result"
    }
   ],
   "source": [
    "data_set[\"category\"].unique()"
   ]
  },
  {
   "cell_type": "code",
   "execution_count": 48,
   "id": "927b6b5b",
   "metadata": {},
   "outputs": [
    {
     "data": {
      "text/html": [
       "<div>\n",
       "<style scoped>\n",
       "    .dataframe tbody tr th:only-of-type {\n",
       "        vertical-align: middle;\n",
       "    }\n",
       "\n",
       "    .dataframe tbody tr th {\n",
       "        vertical-align: top;\n",
       "    }\n",
       "\n",
       "    .dataframe thead th {\n",
       "        text-align: right;\n",
       "    }\n",
       "</style>\n",
       "<table border=\"1\" class=\"dataframe\">\n",
       "  <thead>\n",
       "    <tr style=\"text-align: right;\">\n",
       "      <th></th>\n",
       "      <th>category</th>\n",
       "      <th>content</th>\n",
       "      <th>type</th>\n",
       "    </tr>\n",
       "  </thead>\n",
       "  <tbody>\n",
       "    <tr>\n",
       "      <th>4772</th>\n",
       "      <td>justificatif_domicile</td>\n",
       "      <td>chic numéro contrat lieu consommation rue be...</td>\n",
       "      <td>NaN</td>\n",
       "    </tr>\n",
       "    <tr>\n",
       "      <th>4773</th>\n",
       "      <td>justificatif_domicile</td>\n",
       "      <td>free service abonné paris codex soucie delph...</td>\n",
       "      <td>NaN</td>\n",
       "    </tr>\n",
       "    <tr>\n",
       "      <th>4774</th>\n",
       "      <td>justificatif_domicile</td>\n",
       "      <td>attestation valant justificatif domicile ene...</td>\n",
       "      <td>NaN</td>\n",
       "    </tr>\n",
       "    <tr>\n",
       "      <th>4775</th>\n",
       "      <td>justificatif_domicile</td>\n",
       "      <td>my cardio document conserver ans page che da...</td>\n",
       "      <td>NaN</td>\n",
       "    </tr>\n",
       "    <tr>\n",
       "      <th>4776</th>\n",
       "      <td>justificatif_domicile</td>\n",
       "      <td>mieux comprendre montant facture bonjour fac...</td>\n",
       "      <td>NaN</td>\n",
       "    </tr>\n",
       "    <tr>\n",
       "      <th>...</th>\n",
       "      <td>...</td>\n",
       "      <td>...</td>\n",
       "      <td>...</td>\n",
       "    </tr>\n",
       "    <tr>\n",
       "      <th>4888</th>\n",
       "      <td>justificatif_domicile</td>\n",
       "      <td>document conserver ans page evolution consom...</td>\n",
       "      <td>NaN</td>\n",
       "    </tr>\n",
       "    <tr>\n",
       "      <th>4889</th>\n",
       "      <td>justificatif_domicile</td>\n",
       "      <td>document conserver ans page détail facture c...</td>\n",
       "      <td>NaN</td>\n",
       "    </tr>\n",
       "    <tr>\n",
       "      <th>4890</th>\n",
       "      <td>justificatif_domicile</td>\n",
       "      <td>mieux comprendre montant facture bonjour fac...</td>\n",
       "      <td>NaN</td>\n",
       "    </tr>\n",
       "    <tr>\n",
       "      <th>4891</th>\n",
       "      <td>justificatif_domicile</td>\n",
       "      <td>contacter end client internet application mo...</td>\n",
       "      <td>NaN</td>\n",
       "    </tr>\n",
       "    <tr>\n",
       "      <th>4892</th>\n",
       "      <td>justificatif_domicile</td>\n",
       "      <td>facture octobre page facture octobre détail ...</td>\n",
       "      <td>NaN</td>\n",
       "    </tr>\n",
       "  </tbody>\n",
       "</table>\n",
       "<p>121 rows × 3 columns</p>\n",
       "</div>"
      ],
      "text/plain": [
       "                   category  \\\n",
       "4772  justificatif_domicile   \n",
       "4773  justificatif_domicile   \n",
       "4774  justificatif_domicile   \n",
       "4775  justificatif_domicile   \n",
       "4776  justificatif_domicile   \n",
       "...                     ...   \n",
       "4888  justificatif_domicile   \n",
       "4889  justificatif_domicile   \n",
       "4890  justificatif_domicile   \n",
       "4891  justificatif_domicile   \n",
       "4892  justificatif_domicile   \n",
       "\n",
       "                                                content type  \n",
       "4772    chic numéro contrat lieu consommation rue be...  NaN  \n",
       "4773    free service abonné paris codex soucie delph...  NaN  \n",
       "4774    attestation valant justificatif domicile ene...  NaN  \n",
       "4775    my cardio document conserver ans page che da...  NaN  \n",
       "4776    mieux comprendre montant facture bonjour fac...  NaN  \n",
       "...                                                 ...  ...  \n",
       "4888    document conserver ans page evolution consom...  NaN  \n",
       "4889    document conserver ans page détail facture c...  NaN  \n",
       "4890    mieux comprendre montant facture bonjour fac...  NaN  \n",
       "4891    contacter end client internet application mo...  NaN  \n",
       "4892    facture octobre page facture octobre détail ...  NaN  \n",
       "\n",
       "[121 rows x 3 columns]"
      ]
     },
     "execution_count": 48,
     "metadata": {},
     "output_type": "execute_result"
    }
   ],
   "source": [
    "data_set_impot = data_set[data_set[\"category\"] == \"justificatif_domicile\"]\n",
    "data_set_impot"
   ]
  },
  {
   "cell_type": "code",
   "execution_count": 50,
   "id": "3c89123f",
   "metadata": {},
   "outputs": [
    {
     "data": {
      "text/plain": [
       "0       False\n",
       "1       False\n",
       "2       False\n",
       "3       False\n",
       "4       False\n",
       "        ...  \n",
       "1875    False\n",
       "1876    False\n",
       "1877    False\n",
       "1878    False\n",
       "1879    False\n",
       "Length: 1880, dtype: bool"
      ]
     },
     "execution_count": 50,
     "metadata": {},
     "output_type": "execute_result"
    }
   ],
   "source": [
    "data_outlier.duplicated()"
   ]
  },
  {
   "cell_type": "code",
   "execution_count": 56,
   "id": "0e77e46c",
   "metadata": {},
   "outputs": [
    {
     "name": "stdout",
     "output_type": "stream",
     "text": [
      "rennnrrrrerennnnennerenensenneeereeeeseneesser\n"
     ]
    }
   ],
   "source": [
    "word = \"rennnrrrrerennnnennerenensenneeereeeeseneesser\"\n",
    "if spell.unknown([word]):\n",
    "    corrected = spell.correction(word)\n",
    "    if corrected == word:\n",
    "        word = \"\"\n",
    "    else:\n",
    "        word = corrected\n",
    "else:\n",
    "    word = word\n",
    "\n",
    "print(word)"
   ]
  },
  {
   "cell_type": "code",
   "execution_count": 10,
   "id": "81cac986",
   "metadata": {},
   "outputs": [
    {
     "name": "stdout",
     "output_type": "stream",
     "text": [
      "avis situation déclaratif impôt revenir suite avis information complementaire revenir fiscal référence dom rrrrrrrr information indiquer mémoire rcm déjà soumettre prélèvement social csg déductible plafond epargne retraite plafond disponible déduction cotisation verser déclaration revenir souscrir déclar plafond total ner rrnnncrerecnnnecennnneeerennneernnece cs plafond non utiliser revenir plafond non utiliser revenir plafond non utiliser revenir plafond calculer revenir plafond cotisation verser\n"
     ]
    }
   ],
   "source": [
    "print(data_set[\"content\"][2])"
   ]
  },
  {
   "cell_type": "code",
   "execution_count": null,
   "id": "06f77efd",
   "metadata": {},
   "outputs": [],
   "source": []
  }
 ],
 "metadata": {
  "kernelspec": {
   "display_name": "Python 3",
   "language": "python",
   "name": "python3"
  },
  "language_info": {
   "codemirror_mode": {
    "name": "ipython",
    "version": 3
   },
   "file_extension": ".py",
   "mimetype": "text/x-python",
   "name": "python",
   "nbconvert_exporter": "python",
   "pygments_lexer": "ipython3",
   "version": "3.8.8"
  }
 },
 "nbformat": 4,
 "nbformat_minor": 5
}
