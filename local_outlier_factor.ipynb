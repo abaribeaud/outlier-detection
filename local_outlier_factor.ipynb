{
 "cells": [
  {
   "cell_type": "code",
   "execution_count": 1,
   "id": "c9a71628",
   "metadata": {},
   "outputs": [],
   "source": [
    "import os\n",
    "import numpy as np\n",
    "import re\n",
    "import sys\n",
    "import pandas as pd\n",
    "\n",
    "from sklearn.model_selection import train_test_split\n",
    "from spellchecker import SpellChecker\n",
    "from sklearn.feature_extraction.text import CountVectorizer, TfidfVectorizer\n",
    "from sklearn.neighbors import LocalOutlierFactor"
   ]
  },
  {
   "cell_type": "code",
   "execution_count": 2,
   "id": "f8c0b767",
   "metadata": {},
   "outputs": [],
   "source": [
    "pathname = os.path.dirname(sys.argv[0])"
   ]
  },
  {
   "cell_type": "code",
   "execution_count": 3,
   "id": "11fe0ff9",
   "metadata": {},
   "outputs": [],
   "source": [
    "def vectorize_documents(documents):\n",
    "    \"\"\"\n",
    "        Vectorize documents as bag of words\n",
    "\n",
    "    :param documents: List of all documents retrieved\n",
    "    :rtype: list\n",
    "\n",
    "    :return: Vectorized document\n",
    "    :rtype: `np.ndarray`\n",
    "    \"\"\"\n",
    "\n",
    "    vectorizer = CountVectorizer(max_features=6000)\n",
    "    X = vectorizer.fit_transform(documents)\n",
    "    return X.toarray()\n",
    "\n",
    "def vectorize_tfidf_documents(documents):\n",
    "    \"\"\"\n",
    "        Vectorize documents as bag of words with a weighting factor\n",
    "\n",
    "    :param documents: List of all documents retrieved\n",
    "    :rtype: list\n",
    "\n",
    "    :return: Vectorized document\n",
    "    :rtype: `np.ndarray`\n",
    "    \"\"\"\n",
    "\n",
    "    vectorizer = TfidfVectorizer(max_features=6000)\n",
    "    X = vectorizer.fit_transform(documents)\n",
    "    return X.toarray()"
   ]
  },
  {
   "cell_type": "markdown",
   "id": "f38ae2ba",
   "metadata": {},
   "source": [
    "# Avec Novelty\n",
    "\n",
    "### Bag of words"
   ]
  },
  {
   "cell_type": "code",
   "execution_count": 4,
   "id": "6e05f712",
   "metadata": {},
   "outputs": [],
   "source": [
    "all_document_text_train = []\n",
    "all_document_text_test = []\n",
    "\n",
    "clean = pd.read_csv(\"clean.csv\").reset_index()\n",
    "outlier = pd.read_csv(\"outlier.csv\").reset_index()\n",
    "\n",
    "#Contenu des textes récupéré et stocké\n",
    "for index, row in clean.iterrows():\n",
    "    text = row[\"content\"]\n",
    "    all_document_text_train.append(text)\n",
    "    \n",
    "for index, row in outlier.iterrows():\n",
    "    text = row[\"content\"]\n",
    "    all_document_text_test.append(text)"
   ]
  },
  {
   "cell_type": "code",
   "execution_count": 5,
   "id": "ae022e42",
   "metadata": {},
   "outputs": [
    {
     "name": "stdout",
     "output_type": "stream",
     "text": [
      "error_train : 21.514786 %\n",
      "error_test : 22.775264 %\n",
      "error_outliers : 6.489362 %\n"
     ]
    }
   ],
   "source": [
    "#Bag of words\n",
    "X1 = vectorize_documents(all_document_text_train)\n",
    "X2 = vectorize_documents(all_document_text_test)\n",
    "\n",
    "X_train, X_test = train_test_split(X1, shuffle=True, random_state=42)\n",
    "lof = LocalOutlierFactor(novelty=True)\n",
    "lof.fit(X_train)\n",
    "\n",
    "y_pred_train = lof.predict(X_train)\n",
    "y_pred_test = lof.predict(X_test)\n",
    "y_pred_outliers = lof.predict(X2)\n",
    "\n",
    "#Calcul des erreurs (outliers détectés là où il n'y en a pas)\n",
    "n_error_train = y_pred_train[y_pred_train == -1].size\n",
    "n_error_test = y_pred_test[y_pred_test == -1].size\n",
    "\n",
    "#Calcul du nombre d'outliers non-détectés (omission)\n",
    "n_error_outliers = y_pred_outliers[y_pred_outliers == 1].size\n",
    "\n",
    "train_size = y_pred_train.size\n",
    "test_size = y_pred_test.size\n",
    "outliers_size = y_pred_outliers.size\n",
    "\n",
    "#Calcul des taux d'erreur\n",
    "error_train = n_error_train/train_size * 100\n",
    "error_test = n_error_test/test_size * 100\n",
    "error_outliers = n_error_outliers/outliers_size * 100\n",
    "\n",
    "print(\"error_train : %3f %%\"%error_train)\n",
    "print(\"error_test : %3f %%\"%error_test)\n",
    "print(\"error_outliers : %3f %%\"%error_outliers)"
   ]
  },
  {
   "cell_type": "markdown",
   "id": "4189617a",
   "metadata": {},
   "source": [
    "### Bag of words + TF-IDF"
   ]
  },
  {
   "cell_type": "code",
   "execution_count": 6,
   "id": "855ab578",
   "metadata": {},
   "outputs": [
    {
     "name": "stdout",
     "output_type": "stream",
     "text": [
      "error_train : 1.740093 %\n",
      "error_test : 1.779789 %\n",
      "error_outliers : 77.978723 %\n"
     ]
    }
   ],
   "source": [
    "#TF-IDF\n",
    "X1 = vectorize_tfidf_documents(all_document_text_train)\n",
    "X2 = vectorize_tfidf_documents(all_document_text_test)\n",
    "\n",
    "X_train, X_test = train_test_split(X1, shuffle=True, random_state=42)\n",
    "lof = LocalOutlierFactor(novelty=True)\n",
    "lof.fit(X_train)\n",
    "\n",
    "y_pred_train = lof.predict(X_train)\n",
    "y_pred_test = lof.predict(X_test)\n",
    "y_pred_outliers = lof.predict(X2)\n",
    "\n",
    "#Calcul des erreurs (outliers détectés là où il n'y en a pas)\n",
    "n_error_train = y_pred_train[y_pred_train == -1].size\n",
    "n_error_test = y_pred_test[y_pred_test == -1].size\n",
    "\n",
    "#Calcul du nombre d'outliers non-détectés (omission)\n",
    "n_error_outliers = y_pred_outliers[y_pred_outliers == 1].size\n",
    "\n",
    "train_size = y_pred_train.size\n",
    "test_size = y_pred_test.size\n",
    "outliers_size = y_pred_outliers.size\n",
    "\n",
    "#Calcul des taux d'erreur\n",
    "error_train = n_error_train/train_size * 100\n",
    "error_test = n_error_test/test_size * 100\n",
    "error_outliers = n_error_outliers/outliers_size * 100\n",
    "\n",
    "print(\"error_train : %3f %%\"%error_train)\n",
    "print(\"error_test : %3f %%\"%error_test)\n",
    "print(\"error_outliers : %3f %%\"%error_outliers)"
   ]
  },
  {
   "cell_type": "markdown",
   "id": "961e98e0",
   "metadata": {},
   "source": [
    "# Sans Novelty"
   ]
  },
  {
   "cell_type": "code",
   "execution_count": 30,
   "id": "27219e46",
   "metadata": {},
   "outputs": [
    {
     "name": "stdout",
     "output_type": "stream",
     "text": [
      "Nombre de documents connus : 66285\n",
      "Nombre d'outliers : 9400\n",
      "Taux d'outliers attendus : 12.419898%\n"
     ]
    }
   ],
   "source": [
    "clean = pd.read_csv(\"clean.csv\").reset_index()\n",
    "outlier = pd.read_csv(\"outlier.csv\").reset_index()\n",
    "\n",
    "print(\"Nombre de documents connus :\",clean.size)\n",
    "print(\"Nombre d'outliers :\",outlier.size)\n",
    "\n",
    "#Base de données contenant des outliers\n",
    "df = pd.concat([clean,outlier])\n",
    "\n",
    "print(\"Taux d'outliers attendus : %3f%%\"%(outlier.size/df.size*100))"
   ]
  },
  {
   "cell_type": "code",
   "execution_count": 31,
   "id": "fa3a1c78",
   "metadata": {},
   "outputs": [
    {
     "name": "stdout",
     "output_type": "stream",
     "text": [
      "Taux d'outliers détectés : 26.497985 %\n"
     ]
    }
   ],
   "source": [
    "all_document_text_train = []\n",
    "\n",
    "for index, row in df.iterrows():\n",
    "    text = row[\"content\"]\n",
    "    all_document_text_train.append(text)\n",
    "    \n",
    "X = vectorize_documents(all_document_text_train)\n",
    "\n",
    "lof = LocalOutlierFactor()\n",
    "y_pred = lof.fit_predict(X)\n",
    "\n",
    "\n",
    "print(\"Taux d'outliers détectés : %3f %%\"%(y_pred[y_pred == -1].size/y_pred.size*100))"
   ]
  }
 ],
 "metadata": {
  "kernelspec": {
   "display_name": "Python 3 (ipykernel)",
   "language": "python",
   "name": "python3"
  },
  "language_info": {
   "codemirror_mode": {
    "name": "ipython",
    "version": 3
   },
   "file_extension": ".py",
   "mimetype": "text/x-python",
   "name": "python",
   "nbconvert_exporter": "python",
   "pygments_lexer": "ipython3",
   "version": "3.9.7"
  }
 },
 "nbformat": 4,
 "nbformat_minor": 5
}
